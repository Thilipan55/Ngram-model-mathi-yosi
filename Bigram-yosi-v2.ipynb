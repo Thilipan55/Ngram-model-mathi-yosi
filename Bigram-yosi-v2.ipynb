{
 "cells": [
  {
   "cell_type": "code",
   "execution_count": 1,
   "id": "b2ed5d35-4a9f-4117-b8ae-332e867b2fbe",
   "metadata": {},
   "outputs": [],
   "source": [
    "import torch\n",
    "import torch.nn as nn\n",
    "import torch.nn.functional as F\n",
    "import matplotlib.pyplot as plt\n",
    "%matplotlib inline"
   ]
  },
  {
   "cell_type": "code",
   "execution_count": 2,
   "id": "6836967f-076f-43d3-9111-f4d64377cf26",
   "metadata": {},
   "outputs": [
    {
     "data": {
      "text/plain": [
       "'C:\\\\Users\\\\Thilipan'"
      ]
     },
     "execution_count": 2,
     "metadata": {},
     "output_type": "execute_result"
    }
   ],
   "source": [
    "pwd"
   ]
  },
  {
   "cell_type": "code",
   "execution_count": 3,
   "id": "d0a18150-ea20-4969-b017-0084b4f7beaf",
   "metadata": {},
   "outputs": [
    {
     "name": "stdout",
     "output_type": "stream",
     "text": [
      "C:\\Users\\Thilipan\\downloads\n"
     ]
    }
   ],
   "source": [
    "cd downloads"
   ]
  },
  {
   "cell_type": "code",
   "execution_count": 143,
   "id": "f538834d-2d94-4d42-8a38-20ffe88bf939",
   "metadata": {},
   "outputs": [],
   "source": [
    "words = open(\"names.txt\" , 'r').read().splitlines()"
   ]
  },
  {
   "cell_type": "code",
   "execution_count": 144,
   "id": "be0c88d9-1e37-485c-8957-4521d9c9b9e2",
   "metadata": {},
   "outputs": [
    {
     "data": {
      "text/plain": [
       "['emma', 'olivia', 'ava', 'isabella', 'sophia']"
      ]
     },
     "execution_count": 144,
     "metadata": {},
     "output_type": "execute_result"
    }
   ],
   "source": [
    "words[:5]"
   ]
  },
  {
   "cell_type": "code",
   "execution_count": 145,
   "id": "ee3fc636-a12b-4fd6-9d84-ffc37413d24a",
   "metadata": {},
   "outputs": [],
   "source": [
    "chars = sorted(list(set(''.join(words))))\n",
    "stoi = {}\n",
    "for key, char in enumerate(chars):\n",
    "    stoi[char] = key+1\n",
    "stoi['.'] = 0\n",
    "itos = {}\n",
    "for cha, key in stoi.items():\n",
    "    itos[key] = cha\n"
   ]
  },
  {
   "cell_type": "code",
   "execution_count": 135,
   "id": "1a5b7bb4-e42f-4c91-8085-137a7ba4258f",
   "metadata": {},
   "outputs": [
    {
     "name": "stdout",
     "output_type": "stream",
     "text": [
      "... ---> e\n",
      "..e ---> m\n",
      ".em ---> m\n",
      "emm ---> a\n",
      "mma ---> .\n",
      "... ---> o\n",
      "..o ---> l\n",
      ".ol ---> i\n",
      "oli ---> v\n",
      "liv ---> i\n",
      "ivi ---> a\n",
      "via ---> .\n",
      "... ---> a\n",
      "..a ---> v\n",
      ".av ---> a\n",
      "ava ---> .\n",
      "... ---> i\n",
      "..i ---> s\n",
      ".is ---> a\n",
      "isa ---> b\n",
      "sab ---> e\n",
      "abe ---> l\n",
      "bel ---> l\n",
      "ell ---> a\n",
      "lla ---> .\n",
      "... ---> s\n",
      "..s ---> o\n",
      ".so ---> p\n",
      "sop ---> h\n",
      "oph ---> i\n",
      "phi ---> a\n",
      "hia ---> .\n"
     ]
    }
   ],
   "source": [
    "word_size = 3\n",
    "X = []\n",
    "y = []\n",
    "\n",
    "for w in words[:5]:\n",
    "    context = [0] * word_size\n",
    "    for i in w + '.':\n",
    "        xh = stoi[i]\n",
    "        y.append(xh)\n",
    "        X.append(context)\n",
    "        con = []\n",
    "        for co in context:\n",
    "            con.append(itos[co])\n",
    "        cont = ''.join(con)\n",
    "        print(cont,'--->',itos[xh])\n",
    "        context = context[1:] + [xh]\n",
    "x = torch.tensor(X) #feature\n",
    "y = torch.tensor(y) #label\n",
    "            "
   ]
  },
  {
   "cell_type": "code",
   "execution_count": 8,
   "id": "757f4397-be34-4590-a4d1-5d5aa5ea70c8",
   "metadata": {},
   "outputs": [
    {
     "data": {
      "text/plain": [
       "tensor([[ 0,  0,  0],\n",
       "        [ 0,  0,  5],\n",
       "        [ 0,  5, 13],\n",
       "        [ 5, 13, 13],\n",
       "        [13, 13,  1]])"
      ]
     },
     "execution_count": 8,
     "metadata": {},
     "output_type": "execute_result"
    }
   ],
   "source": [
    "x[:5]"
   ]
  },
  {
   "cell_type": "code",
   "execution_count": 9,
   "id": "de923b7e-257b-4f61-acaf-c261d698b64f",
   "metadata": {},
   "outputs": [],
   "source": [
    "g = torch.Generator().manual_seed(69)\n",
    "c = torch.randn([27,2] ,generator = g) #the look up table each index has 2 dimensions and embedded"
   ]
  },
  {
   "cell_type": "code",
   "execution_count": 10,
   "id": "adeb745e-cbe7-449d-8060-233c9c5b490e",
   "metadata": {},
   "outputs": [
    {
     "data": {
      "text/plain": [
       "tensor([[-0.5300, -1.3035],\n",
       "        [ 0.4438,  1.2221],\n",
       "        [ 1.0395,  0.9608],\n",
       "        [ 0.4214,  0.7452],\n",
       "        [-1.8389, -1.2497],\n",
       "        [-0.2485,  0.1428],\n",
       "        [-1.0509,  0.3527],\n",
       "        [-0.0916,  0.0341],\n",
       "        [-0.8986,  0.1022],\n",
       "        [-0.6627, -0.1350],\n",
       "        [-0.3983, -1.7892],\n",
       "        [ 1.2785,  1.3351],\n",
       "        [-0.3066,  1.0382],\n",
       "        [ 1.2762,  0.0419],\n",
       "        [-1.2794, -1.8432],\n",
       "        [ 0.8633, -1.7786],\n",
       "        [-0.8080, -0.8735],\n",
       "        [ 0.9367, -1.2319],\n",
       "        [ 1.5287, -0.2759],\n",
       "        [ 0.6394,  1.2406],\n",
       "        [ 0.7299, -0.8683],\n",
       "        [ 0.6726,  0.1142],\n",
       "        [ 1.0251,  1.3822],\n",
       "        [-0.3832,  1.4027],\n",
       "        [ 1.9010, -1.1275],\n",
       "        [ 0.7207, -0.2668],\n",
       "        [-1.6520, -1.1392]])"
      ]
     },
     "execution_count": 10,
     "metadata": {},
     "output_type": "execute_result"
    }
   ],
   "source": [
    "c"
   ]
  },
  {
   "cell_type": "code",
   "execution_count": 11,
   "id": "58f7ffb1-7a7d-4a53-aa5f-d68ecbf35a37",
   "metadata": {},
   "outputs": [
    {
     "data": {
      "text/plain": [
       "tensor([[-0.5300, -1.3035],\n",
       "        [-0.5300, -1.3035],\n",
       "        [-0.5300, -1.3035]])"
      ]
     },
     "execution_count": 11,
     "metadata": {},
     "output_type": "execute_result"
    }
   ],
   "source": [
    "c[[0,0,0]] #you can index with list in pt so inside c[] index[0,0,0] will give the same "
   ]
  },
  {
   "cell_type": "code",
   "execution_count": 12,
   "id": "e155f40a-d146-46ce-bb1e-634b55d548aa",
   "metadata": {},
   "outputs": [
    {
     "data": {
      "text/plain": [
       "tensor([[[-0.5300, -1.3035],\n",
       "         [-0.5300, -1.3035],\n",
       "         [-0.5300, -1.3035]],\n",
       "\n",
       "        [[-0.5300, -1.3035],\n",
       "         [-0.5300, -1.3035],\n",
       "         [-0.2485,  0.1428]],\n",
       "\n",
       "        [[-0.5300, -1.3035],\n",
       "         [-0.2485,  0.1428],\n",
       "         [ 1.2762,  0.0419]]])"
      ]
     },
     "execution_count": 12,
     "metadata": {},
     "output_type": "execute_result"
    }
   ],
   "source": [
    "c[x][:3] # like above x has int of the features and putting them in c so thats why 3 of them and 2 dimesions each cuz of c"
   ]
  },
  {
   "cell_type": "code",
   "execution_count": 13,
   "id": "377f4961-4039-4bb2-a8e5-60cd442807ad",
   "metadata": {},
   "outputs": [
    {
     "data": {
      "text/plain": [
       "torch.Size([32, 3, 2])"
      ]
     },
     "execution_count": 13,
     "metadata": {},
     "output_type": "execute_result"
    }
   ],
   "source": [
    "emb = c[x] # embedding look up table\n",
    "emb.shape # the 32,3,2 means 32 from x so 32 batch size will be the number of cols and for each one of the x[0,0,0] we have 2 vectors "
   ]
  },
  {
   "cell_type": "code",
   "execution_count": 14,
   "id": "04fe6714-8ce1-4465-87a0-24e48d6139c1",
   "metadata": {},
   "outputs": [
    {
     "data": {
      "text/plain": [
       "tensor([[-0.5300, -1.3035],\n",
       "        [-0.5300, -1.3035],\n",
       "        [-0.5300, -1.3035]])"
      ]
     },
     "execution_count": 14,
     "metadata": {},
     "output_type": "execute_result"
    }
   ],
   "source": [
    "emb[0]"
   ]
  },
  {
   "attachments": {
    "cbe9b9da-7cb4-4777-9a91-3acec33c431a.png": {
     "image/png": "[encoded data removed]"
    }
   },
   "cell_type": "markdown",
   "id": "a1355e6c-ccee-49c4-9e6b-f6a4a700a703",
   "metadata": {},
   "source": [
    "![image.png](attachment:cbe9b9da-7cb4-4777-9a91-3acec33c431a.png)"
   ]
  },
  {
   "cell_type": "code",
   "execution_count": 15,
   "id": "ab0107a0-abe1-4e02-88a6-18ba2fe89e3d",
   "metadata": {},
   "outputs": [
    {
     "data": {
      "text/plain": [
       "tensor([0, 1, 2, 3, 4, 5, 6, 7, 8, 9])"
      ]
     },
     "execution_count": 15,
     "metadata": {},
     "output_type": "execute_result"
    }
   ],
   "source": [
    "u = torch.arange(10)\n",
    "u"
   ]
  },
  {
   "cell_type": "code",
   "execution_count": 16,
   "id": "fb91fbae-4bcb-4712-8a59-d06ee1faa740",
   "metadata": {},
   "outputs": [
    {
     "data": {
      "text/plain": [
       "tensor([[0, 1],\n",
       "        [2, 3],\n",
       "        [4, 5],\n",
       "        [6, 7],\n",
       "        [8, 9]])"
      ]
     },
     "execution_count": 16,
     "metadata": {},
     "output_type": "execute_result"
    }
   ],
   "source": [
    "u.view(5,2)"
   ]
  },
  {
   "cell_type": "code",
   "execution_count": 17,
   "id": "66fa8015-2c7f-4814-86a7-a251f31179dc",
   "metadata": {},
   "outputs": [
    {
     "data": {
      "text/plain": [
       "tensor([[0, 1, 2, 3, 4],\n",
       "        [5, 6, 7, 8, 9]])"
      ]
     },
     "execution_count": 17,
     "metadata": {},
     "output_type": "execute_result"
    }
   ],
   "source": [
    "u.view(2,5)"
   ]
  },
  {
   "cell_type": "code",
   "execution_count": 18,
   "id": "635c707f-c342-40c9-aa8c-70a0eadefc66",
   "metadata": {},
   "outputs": [
    {
     "data": {
      "text/plain": [
       "tensor([[[ 0,  1,  2],\n",
       "         [ 3,  4,  5],\n",
       "         [ 6,  7,  8]],\n",
       "\n",
       "        [[ 9, 10, 11],\n",
       "         [12, 13, 14],\n",
       "         [15, 16, 17]]])"
      ]
     },
     "execution_count": 18,
     "metadata": {},
     "output_type": "execute_result"
    }
   ],
   "source": [
    "torch.arange(18).view(2,3,3) #torch.view() => literal fucking blackmagic"
   ]
  },
  {
   "cell_type": "code",
   "execution_count": 46,
   "id": "d37c2a18-2270-4566-a480-fe3e8e3f3763",
   "metadata": {},
   "outputs": [],
   "source": [
    "gen = torch.Generator().manual_seed(69)\n",
    "W1 = torch.randn((6, 100), generator =gen) #weights for the first hidden layer so it takes 6 inputs for each of the 100 neurons\n",
    "b1 = torch.randn((100), generator = gen)\n",
    "# the bias will broadcast downwards\n",
    "# w1 = 6, 100\n",
    "# b1 = 1, 100 this copies upwareds and element wise addition"
   ]
  },
  {
   "cell_type": "code",
   "execution_count": 47,
   "id": "451863e2-33c8-4037-bca9-8eeed9f4703f",
   "metadata": {},
   "outputs": [
    {
     "data": {
      "text/plain": [
       "tensor([[-0.9502,  0.8610, -0.9997,  ...,  0.5947, -0.9061,  0.9984],\n",
       "        [ 0.4337,  0.9913, -0.9999,  ...,  0.9612, -0.9735,  0.0567],\n",
       "        [ 0.7132,  0.8466, -1.0000,  ...,  0.9930, -0.8616,  0.1329],\n",
       "        ...,\n",
       "        [-0.5469,  0.8480, -1.0000,  ...,  0.9874, -0.9961,  0.9390],\n",
       "        [ 0.7217,  0.9555, -0.9997,  ...,  0.7259, -0.9863,  0.9791],\n",
       "        [ 0.9992,  0.9834, -0.9940,  ...,  0.9612, -0.9897, -0.9932]])"
      ]
     },
     "execution_count": 47,
     "metadata": {},
     "output_type": "execute_result"
    }
   ],
   "source": [
    "h = torch.tanh(emb.view(emb.shape[0], 6) @ W1 + b1)#here we are turning our 32,3,2 to 32,6 cuz each euron will take 2 in input layer and we have 3 inputs\n",
    "#so we do emb.view(32,6) for this example or to represent 32 we can put emb.shape[0] -> this tells us the batch size aka x.shape\n",
    "#and we apply a tanh act. function to bring it between -1 to 1\n",
    "h #(32,6) (6,100) => (32,100)"
   ]
  },
  {
   "cell_type": "code",
   "execution_count": 32,
   "id": "d3b5fb1d-7505-4005-838f-32e56de6c2b9",
   "metadata": {},
   "outputs": [],
   "source": [
    "#now output layer\n",
    "W2 = torch.randn((100, 27))\n",
    "b2 = torch.randn(27)"
   ]
  },
  {
   "cell_type": "code",
   "execution_count": 33,
   "id": "6458294a-63c1-46f9-88fc-0480b378fa50",
   "metadata": {},
   "outputs": [
    {
     "data": {
      "text/plain": [
       "torch.Size([32, 27])"
      ]
     },
     "execution_count": 33,
     "metadata": {},
     "output_type": "execute_result"
    }
   ],
   "source": [
    "logits = h @ W2 + b2\n",
    "logits.shape # this is the 27 \"raw\" outputs it predicted for each of the threee inputs"
   ]
  },
  {
   "cell_type": "code",
   "execution_count": 41,
   "id": "619bdb51-4948-4fa1-b556-2faba02d8534",
   "metadata": {},
   "outputs": [
    {
     "data": {
      "text/plain": [
       "tensor([5.6208e-14, 1.8498e-12, 1.5917e-04, 2.2979e-10, 4.9782e-08, 3.7603e-01,\n",
       "        2.1318e-06, 4.6665e-09, 2.2905e-12, 2.1698e-11, 5.5618e-02, 8.6105e-02,\n",
       "        7.8478e-04, 3.6491e-01, 5.9381e-05, 3.4019e-06, 1.3698e-02, 1.4889e-07,\n",
       "        1.0613e-05, 3.5779e-08, 2.2622e-09, 3.3188e-06, 1.7438e-06, 7.6741e-08,\n",
       "        1.0261e-01, 7.1053e-08, 8.4993e-07])"
      ]
     },
     "execution_count": 41,
     "metadata": {},
     "output_type": "execute_result"
    }
   ],
   "source": [
    "#applying a softmax to the raw logits exp(a)/sum(exp(a))\n",
    "count = logits.exp()\n",
    "probs = count/count.sum(1, keepdims = True) #keepdims cuz divide each row with its own sum of rows\n",
    "probs[1]"
   ]
  },
  {
   "cell_type": "code",
   "execution_count": 35,
   "id": "8a822a02-0e37-4d6c-8dd1-01fbb9b686dc",
   "metadata": {},
   "outputs": [
    {
     "data": {
      "text/plain": [
       "tensor([ 5, 13, 13,  1,  0, 15, 12,  9, 22,  9,  1,  0,  1, 22,  1,  0,  9, 19,\n",
       "         1,  2,  5, 12, 12,  1,  0, 19, 15, 16,  8,  9,  1,  0])"
      ]
     },
     "execution_count": 35,
     "metadata": {},
     "output_type": "execute_result"
    }
   ],
   "source": [
    "y #the real output \"labels\", we index this at each of the output probs"
   ]
  },
  {
   "cell_type": "code",
   "execution_count": 36,
   "id": "40fb5a6b-7fdb-4004-bf9e-ad2459c04c8a",
   "metadata": {},
   "outputs": [
    {
     "data": {
      "text/plain": [
       "(tensor(0.0014), tensor(0.3649), tensor(5.3259e-15))"
      ]
     },
     "execution_count": 36,
     "metadata": {},
     "output_type": "execute_result"
    }
   ],
   "source": [
    "#calculating loss\n",
    "#we want to predict y so we will pluck out whatever the model has predicted for that index\n",
    "probs[0,5], probs[1,13], probs[3,1]  #so on"
   ]
  },
  {
   "cell_type": "code",
   "execution_count": 37,
   "id": "df3448ae-fd49-453f-8b37-10d56d7dcf4e",
   "metadata": {},
   "outputs": [
    {
     "data": {
      "text/plain": [
       "tensor([1.3708e-03, 3.6491e-01, 2.5950e-03, 5.3259e-15, 3.3348e-05, 7.7804e-09,\n",
       "        1.5977e-03, 4.2216e-13, 7.4651e-09, 9.8241e-11, 1.9074e-05, 9.9554e-01,\n",
       "        1.1002e-13, 2.6472e-09, 1.5667e-14, 8.7006e-01, 2.8034e-11, 2.1936e-09,\n",
       "        1.2112e-10, 3.7341e-09, 1.5825e-16, 1.3817e-17, 6.5698e-16, 7.0062e-13,\n",
       "        1.0000e+00, 2.3099e-09, 1.3695e-02, 1.4270e-16, 1.1429e-06, 5.8336e-11,\n",
       "        9.6815e-13, 9.9737e-01])"
      ]
     },
     "execution_count": 37,
     "metadata": {},
     "output_type": "execute_result"
    }
   ],
   "source": [
    "probs[torch.arange(32), y]"
   ]
  },
  {
   "cell_type": "code",
   "execution_count": 38,
   "id": "1d450a80-862b-4f2f-b506-1a448a1d5d71",
   "metadata": {},
   "outputs": [
    {
     "data": {
      "text/plain": [
       "tensor([-6.5923e+00, -1.0081e+00, -5.9542e+00, -3.2866e+01, -1.0309e+01,\n",
       "        -1.8672e+01, -6.4392e+00, -2.8493e+01, -1.8713e+01, -2.3044e+01,\n",
       "        -1.0867e+01, -4.4704e-03, -2.9838e+01, -1.9750e+01, -3.1787e+01,\n",
       "        -1.3919e-01, -2.4298e+01, -1.9938e+01, -2.2834e+01, -1.9406e+01,\n",
       "        -3.6382e+01, -3.8821e+01, -3.4959e+01, -2.7987e+01, -4.2915e-06,\n",
       "        -1.9886e+01, -4.2907e+00, -3.6486e+01, -1.3682e+01, -2.3565e+01,\n",
       "        -2.7663e+01, -2.6326e-03])"
      ]
     },
     "execution_count": 38,
     "metadata": {},
     "output_type": "execute_result"
    }
   ],
   "source": [
    "#to caclulate negative log likelihood loss\n",
    "#take log for em\n",
    "probs[torch.arange(32), y].log()"
   ]
  },
  {
   "cell_type": "code",
   "execution_count": 39,
   "id": "9ca769e1-df8c-4d55-a2ad-130c44483d46",
   "metadata": {},
   "outputs": [
    {
     "data": {
      "text/plain": [
       "tensor(-18.5836)"
      ]
     },
     "execution_count": 39,
     "metadata": {},
     "output_type": "execute_result"
    }
   ],
   "source": [
    "#now take its mean\n",
    "probs[torch.arange(32), y].log().mean()"
   ]
  },
  {
   "cell_type": "code",
   "execution_count": 40,
   "id": "c185779a-68b6-4eed-934b-e3d8919b8d39",
   "metadata": {},
   "outputs": [
    {
     "data": {
      "text/plain": [
       "18.583608627319336"
      ]
     },
     "execution_count": 40,
     "metadata": {},
     "output_type": "execute_result"
    }
   ],
   "source": [
    "#and take the negative of it \n",
    "nll = -probs[torch.arange(emb.shape[0]), y].log().mean()\n",
    "nll.item()"
   ]
  },
  {
   "cell_type": "code",
   "execution_count": 50,
   "id": "bd505881-be09-4705-913e-4ed6e1c297b3",
   "metadata": {},
   "outputs": [
    {
     "data": {
      "text/plain": [
       "18.58361053466797"
      ]
     },
     "execution_count": 50,
     "metadata": {},
     "output_type": "execute_result"
    }
   ],
   "source": [
    "#or you can do all that and \n",
    "F.cross_entropy(logits,y).item()\n",
    "#these both are thr same but this is more efficient and easy just calc loss from logits directly"
   ]
  },
  {
   "cell_type": "code",
   "execution_count": 105,
   "id": "a250c6ca-c740-47cb-97e8-a3e4fb227bfc",
   "metadata": {},
   "outputs": [],
   "source": [
    "#putting them all\n",
    "gen = torch.Generator().manual_seed(694200)\n",
    "W1 = torch.randn((6, 100), generator = gen, requires_grad = True) #weights for the first hidden layer so it takes 6 inputs for each of the 100 neurons\n",
    "b1 = torch.randn((100), generator = gen, requires_grad = True)\n",
    "W2 = torch.randn((100, 27), generator = gen, requires_grad = True)\n",
    "b2 = torch.randn((27), generator = gen, requires_grad = True)\n",
    "pars = [W1, b1, W2, b2]"
   ]
  },
  {
   "cell_type": "code",
   "execution_count": 106,
   "id": "7b0ccbc1-5528-4f50-b199-071c6e7009b4",
   "metadata": {},
   "outputs": [
    {
     "name": "stdout",
     "output_type": "stream",
     "text": [
      "total number of parameters : 3427\n"
     ]
    }
   ],
   "source": [
    "coun = 0\n",
    "for p in pars:\n",
    "    coun += p.nelement() #count the total number of elements in a tensor\n",
    "print(f'total number of parameters : {coun}')"
   ]
  },
  {
   "cell_type": "code",
   "execution_count": 107,
   "id": "2450ba6b-8145-443e-9644-909ff80ffeb3",
   "metadata": {},
   "outputs": [
    {
     "name": "stdout",
     "output_type": "stream",
     "text": [
      "loss at epoch 0 : 17.95159\n",
      "loss at epoch 1 : 15.72493\n",
      "loss at epoch 2 : 13.76903\n",
      "loss at epoch 3 : 12.12896\n",
      "loss at epoch 4 : 10.81591\n",
      "loss at epoch 5 : 9.61522\n",
      "loss at epoch 6 : 8.49882\n",
      "loss at epoch 7 : 7.45779\n",
      "loss at epoch 8 : 6.49383\n",
      "loss at epoch 9 : 5.63978\n",
      "loss at epoch 10 : 4.92149\n",
      "loss at epoch 11 : 4.34657\n",
      "loss at epoch 12 : 3.89334\n",
      "loss at epoch 13 : 3.52003\n",
      "loss at epoch 14 : 3.20737\n"
     ]
    }
   ],
   "source": [
    "for i in range(15):\n",
    "    #forward pass\n",
    "    emb = c[x]\n",
    "    o = torch.tanh(emb.view(emb.shape[0], 6) @ W1 + b1) #hidden layer\n",
    "    logits = o @ W2 + b2 #output layer (Raw logits)\n",
    "    \n",
    "    #calculating loss\n",
    "    loss = F.cross_entropy(logits, y)\n",
    "    print(f'loss at epoch {i} : {loss :.5f}')\n",
    "\n",
    "    #backpropogation\n",
    "    for p in pars:\n",
    "        p.grad = None\n",
    "    loss.backward()\n",
    "    \n",
    "    #updating parameters\n",
    "    for p in pars:\n",
    "        p.data += -0.1 * p.grad\n",
    "        "
   ]
  },
  {
   "cell_type": "markdown",
   "id": "7ee510bf-9a1b-45fd-aec0-5a0fc4fcd228",
   "metadata": {},
   "source": [
    "The reason why the loss goes down real fast is we are overfitting this model with a small batch of 32 of 3427 parameters"
   ]
  },
  {
   "cell_type": "code",
   "execution_count": 126,
   "id": "c5a69f61-aa33-43a1-94c5-d82beb7eb40f",
   "metadata": {},
   "outputs": [
    {
     "data": {
      "text/plain": [
       "tensor([[9, 7, 9, 9],\n",
       "        [6, 8, 6, 9],\n",
       "        [6, 6, 5, 9],\n",
       "        [6, 7, 9, 7],\n",
       "        [9, 8, 5, 5]])"
      ]
     },
     "execution_count": 126,
     "metadata": {},
     "output_type": "execute_result"
    }
   ],
   "source": [
    "torch.randint(5, 10,(5,4)) # torch.randint takes low, high,(size) as input\n",
    "#torch.randn create a random tessor with a bell curve"
   ]
  },
  {
   "cell_type": "code",
   "execution_count": 127,
   "id": "2c1c9d12-4fa0-4859-a186-c39774d7004c",
   "metadata": {},
   "outputs": [
    {
     "data": {
      "text/plain": [
       "tensor([16, 18, 26,  3,  2, 15, 24, 21, 19, 26,  4, 12, 18,  2,  3,  0, 15,  5,\n",
       "        10, 18,  9,  9,  8, 26, 16, 30, 16, 28,  9, 25, 26,  7])"
      ]
     },
     "execution_count": 127,
     "metadata": {},
     "output_type": "execute_result"
    }
   ],
   "source": [
    "'''\n",
    "so instead of running the whole dataset thru the model\n",
    "which might take a while to calc grad we send randomly picked\n",
    "mini batches from x and y and calc grad but not so efficient but fast\n",
    "'''\n",
    "ix = torch.randint(0, emb.shape[0], (32,))\n",
    "ix # so say we run the whole dataset thisll take a random batch"
   ]
  },
  {
   "cell_type": "code",
   "execution_count": 174,
   "id": "58667ef4-8aaf-46de-a065-23f54494c72a",
   "metadata": {},
   "outputs": [
    {
     "data": {
      "text/plain": [
       "torch.Size([228146, 3])"
      ]
     },
     "execution_count": 174,
     "metadata": {},
     "output_type": "execute_result"
    }
   ],
   "source": [
    "#lets do for the whole batch \n",
    "x = []\n",
    "y = []\n",
    "context_win = 3\n",
    "for i in words:\n",
    "    context = [0] * context_win\n",
    "    for w in i + '.':\n",
    "        ix = stoi[w]\n",
    "        x.append(context)\n",
    "        y.append(ix)\n",
    "        context = context[1:] + [ix]\n",
    "x = torch.tensor(x)\n",
    "y = torch.tensor(y)\n",
    "x.shape"
   ]
  },
  {
   "cell_type": "code",
   "execution_count": 162,
   "id": "1992c63c-3381-46ab-8351-f14411ff5a1d",
   "metadata": {},
   "outputs": [],
   "source": [
    "#parameters\n",
    "gen = torch.Generator().manual_seed(420)\n",
    "c = torch.randn((27,2) , generator = gen)"
   ]
  },
  {
   "cell_type": "code",
   "execution_count": 163,
   "id": "f9fdbca3-79a6-489e-9884-6a7f19e63200",
   "metadata": {},
   "outputs": [
    {
     "data": {
      "text/plain": [
       "228146"
      ]
     },
     "execution_count": 163,
     "metadata": {},
     "output_type": "execute_result"
    }
   ],
   "source": [
    "embed = c[x]\n",
    "embed.shape[0]"
   ]
  },
  {
   "cell_type": "code",
   "execution_count": 197,
   "id": "e15b3069-859b-409a-926c-fc650c06f961",
   "metadata": {},
   "outputs": [],
   "source": [
    "#initializing weights and biases\n",
    "gen = torch.Generator().manual_seed(69942)\n",
    "W1 = torch.randn((6, 100), generator = gen, requires_grad = True)\n",
    "b1 = torch.randn((100), generator = gen, requires_grad = True)\n",
    "W2 = torch.randn((100, 27), generator = gen, requires_grad = True)\n",
    "b2 = torch.randn((27), generator = gen, requires_grad = True)\n",
    "params = [W1, b1, W2, b2]"
   ]
  },
  {
   "cell_type": "code",
   "execution_count": 198,
   "id": "c499a8dd-26d2-43aa-9c07-2263ad36530f",
   "metadata": {},
   "outputs": [
    {
     "name": "stdout",
     "output_type": "stream",
     "text": [
      "loss at iter 0 : 16.37642\n",
      "loss at iter 1 : 18.09122\n",
      "loss at iter 2 : 11.45907\n",
      "loss at iter 3 : 11.99691\n",
      "loss at iter 4 : 10.46382\n",
      "loss at iter 5 : 9.68980\n",
      "loss at iter 6 : 9.29046\n",
      "loss at iter 7 : 10.03568\n",
      "loss at iter 8 : 5.80906\n",
      "loss at iter 9 : 5.61643\n"
     ]
    }
   ],
   "source": [
    "#calculating from a mini batch to the whole dataset\n",
    "for i in range(10):\n",
    "    #mini batching\n",
    "    ix = torch.randint(0, embed.shape[0], (32,)) # this takes (32,0) numbers from 0 to 228146 randomly\n",
    "\n",
    "    #forward pass\n",
    "    embed = c[x[ix]] #input layer\n",
    "    m = embed.view(-1,6) @ W1 + b1 #hidden layer\n",
    "    h = torch.tanh(m) #act function\n",
    "    logit = h @ W2 + b2\n",
    "    \n",
    "    #calc loss\n",
    "    loss = F.cross_entropy(logit, y[ix])\n",
    "    print(f'loss at iter {i} : {loss:.5f}')\n",
    "\n",
    "    #calculating gradient\n",
    "    for p in params:\n",
    "        p.grad = None\n",
    "    loss.backward()\n",
    "\n",
    "    for p in params:\n",
    "        p.data += -0.1 * p.grad\n",
    "    "
   ]
  },
  {
   "cell_type": "code",
   "execution_count": 183,
   "id": "3cd5c95b-8968-48ac-92be-5de72adf9ad7",
   "metadata": {},
   "outputs": [
    {
     "name": "stdout",
     "output_type": "stream",
     "text": [
      "1.749901533126831\n"
     ]
    }
   ],
   "source": [
    "'''\n",
    "embed = c[x] #input layer\n",
    "m = embed.view(-1,6) @ W1 + b1 #hidden layer\n",
    "h = torch.tanh(m) #act function\n",
    "logi = h @ W2 + b2\n",
    "losse = F.cross_entropy(logi,y)\n",
    "print(loss.item())\n",
    "'''"
   ]
  },
  {
   "cell_type": "code",
   "execution_count": 204,
   "id": "d19bba3d-93a8-44e5-b674-9dbdb9e7eabe",
   "metadata": {},
   "outputs": [
    {
     "name": "stdout",
     "output_type": "stream",
     "text": [
      "torch.Size([182446, 3]),torch.Size([182446])\n",
      "torch.Size([22836, 3]),torch.Size([22836])\n",
      "torch.Size([205282, 3]),torch.Size([205282])\n"
     ]
    }
   ],
   "source": [
    "#train / test / valid or dev split\n",
    "# 80 / 10 / 10\n",
    "import random\n",
    "def build(words):\n",
    "    x = []\n",
    "    y = []\n",
    "    context_win = 3\n",
    "    for i in words:\n",
    "        context = [0] * context_win\n",
    "        for w in i + '.':\n",
    "            ix = stoi[w]\n",
    "            x.append(context)\n",
    "            y.append(ix)\n",
    "            context = context[1:] + [ix]\n",
    "    x = torch.tensor(x)\n",
    "    y = torch.tensor(y)\n",
    "    print(f'{x.shape},{y.shape}')\n",
    "    return x, y\n",
    "random.seed(6996)\n",
    "random.shuffle(words)\n",
    "n1 = int(0.8 * len(words))\n",
    "n2 = int(0.9 * len(words))\n",
    "xtr, ytr = build(words[:n1]) #first 80 percent\n",
    "xdev, ydev = build(words[n1:n2]) #the ten percent between 80 and 90\n",
    "xte, yte = build(words[:n2]) #from 90 percent\n"
   ]
  },
  {
   "cell_type": "code",
   "execution_count": 219,
   "id": "39e7cf04-12e7-4233-b29b-86cca602c2f7",
   "metadata": {},
   "outputs": [],
   "source": [
    "gen = torch.Generator().manual_seed(69942)\n",
    "W1 = torch.randn((6, 100), generator = gen, requires_grad = True)\n",
    "b1 = torch.randn((100), generator = gen, requires_grad = True)\n",
    "W2 = torch.randn((100, 27), generator = gen, requires_grad = True)\n",
    "b2 = torch.randn((27), generator = gen, requires_grad = True)\n",
    "params = [W1, b1, W2, b2]"
   ]
  },
  {
   "cell_type": "code",
   "execution_count": 220,
   "id": "fbaa585c-af35-4d22-8dde-cfd0ba6a32e1",
   "metadata": {},
   "outputs": [
    {
     "name": "stdout",
     "output_type": "stream",
     "text": [
      "loss : 2.72139573097229\n"
     ]
    },
    {
     "data": {
      "image/png": "[encoded data removed]",
      "text/plain": [
       "<Figure size 640x480 with 1 Axes>"
      ]
     },
     "metadata": {},
     "output_type": "display_data"
    }
   ],
   "source": [
    "#training loss on a batch\n",
    "steps = []\n",
    "loss_p = []\n",
    "for i in range(1000):\n",
    "    #mini batching\n",
    "    ix = torch.randint(0, xtr.shape[0], (32,)) # this takes (32,0) numbers from 0 to 228146 randomly\n",
    "\n",
    "    #forward pass\n",
    "    embed = c[xtr[ix]] #input layer\n",
    "    m = embed.view(-1,6) @ W1 + b1 #hidden layer\n",
    "    h = torch.tanh(m) #act function\n",
    "    logit = h @ W2 + b2\n",
    "    \n",
    "    #calc loss\n",
    "    loss = F.cross_entropy(logit, ytr[ix])\n",
    "    #print(f'loss at iter {i} : {loss:.5f}')\n",
    "\n",
    "    #calculating gradient\n",
    "    for p in params:\n",
    "        p.grad = None\n",
    "    loss.backward()\n",
    "\n",
    "    for p in params:\n",
    "        p.data += -0.1 * p.grad\n",
    "    steps.append(i)\n",
    "    loss_p.append(loss.item())\n",
    "print(f'loss : {loss.item()}')\n",
    "plt.plot(steps, loss_p)\n",
    "plt.show()"
   ]
  },
  {
   "cell_type": "code",
   "execution_count": 210,
   "id": "6bf8d3c7-1a9b-4841-8bb6-a61460324fd0",
   "metadata": {},
   "outputs": [
    {
     "name": "stdout",
     "output_type": "stream",
     "text": [
      "10.375611305236816\n"
     ]
    }
   ],
   "source": [
    "#validation loss\n",
    "embed = c[xdev] #input layer\n",
    "m = embed.view(-1,6) @ W1 + b1 #hidden layer\n",
    "h = torch.tanh(m) #act function\n",
    "logi = h @ W2 + b2\n",
    "losse = F.cross_entropy(logi,ydev)\n",
    "print(losse.item())"
   ]
  },
  {
   "cell_type": "code",
   "execution_count": null,
   "id": "677b86a1-aade-4e00-b2f7-e8690228067f",
   "metadata": {},
   "outputs": [],
   "source": []
  }
 ],
 "metadata": {
  "kernelspec": {
   "display_name": "Python 3 (ipykernel)",
   "language": "python",
   "name": "python3"
  },
  "language_info": {
   "codemirror_mode": {
    "name": "ipython",
    "version": 3
   },
   "file_extension": ".py",
   "mimetype": "text/x-python",
   "name": "python",
   "nbconvert_exporter": "python",
   "pygments_lexer": "ipython3",
   "version": "3.13.5"
  }
 },
 "nbformat": 4,
 "nbformat_minor": 5
}
